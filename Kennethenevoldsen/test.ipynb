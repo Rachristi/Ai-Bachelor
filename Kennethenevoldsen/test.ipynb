{
 "cells": [
  {
   "cell_type": "code",
   "execution_count": null,
   "metadata": {},
   "outputs": [],
   "source": [
    "def mean_pooling(model_output, attention_mask):\n",
    "    token_embeddings = model_output[0]  # First element of model_output contains all token embeddings\n",
    "    input_mask_expanded = attention_mask.unsqueeze(-1).expand(token_embeddings.size()).float()\n",
    "    sum_embeddings = torch.sum(token_embeddings * input_mask_expanded, 1)\n",
    "    sum_mask = torch.clamp(input_mask_expanded.sum(1), min=1e-9)\n",
    "    return sum_embeddings / sum_mask\n",
    "\n",
    "# Loads data and returns a list of sentences as specfies in Dataloader\n",
    "sentences = dl.loaddata()\n",
    "\n",
    "# Load AutoModel from huggingface model repository\n",
    "tokenizer = AutoTokenizer.from_pretrained(\"KennethEnevoldsen/dfm-sentence-encoder-large\")\n",
    "model = AutoModel.from_pretrained(\"KennethEnevoldsen/dfm-sentence-encoder-large\")\n",
    "\n",
    "# Tokenize sentences\n",
    "encoded_input = tokenizer(\n",
    "    sentences, padding=True, truncation=True, max_length=128, return_tensors=\"pt\"\n",
    ")\n",
    "\n",
    "# Compute token embeddings\n",
    "with torch.no_grad():\n",
    "    model_output = model(**encoded_input)\n",
    "\n",
    "# Perform pooling. In this case, mean pooling\n",
    "sentence_embeddings = mean_pooling(model_output, encoded_input[\"attention_mask\"])\n",
    "\n",
    "sentence_embeddings = sentence_embeddings.detach().numpy()\n",
    "\n",
    "# Perform t-SNE\n",
    "tsne = TSNE(n_components=2, random_state=0)\n",
    "tsne_results = tsne.fit_transform(sentence_embeddings)\n",
    "\n",
    "# Plot the results\n",
    "plt.scatter(tsne_results[:,0], tsne_results[:,1])\n",
    "plt.title('t-SNE of Sentence Embeddings')\n",
    "plt.xlabel('Dimension 1')\n",
    "plt.ylabel('Dimension 2')\n",
    "plt.show()"
   ]
  }
 ],
 "metadata": {
  "language_info": {
   "name": "python"
  }
 },
 "nbformat": 4,
 "nbformat_minor": 2
}
